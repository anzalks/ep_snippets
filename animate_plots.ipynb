{
 "cells": [
  {
   "cell_type": "code",
   "execution_count": 428,
   "id": "5662a144-2e68-4411-ab65-9c4bd5ad4652",
   "metadata": {},
   "outputs": [],
   "source": [
    "%matplotlib inline\n",
    "__author__           = \"Anzal KS\"\n",
    "__copyright__        = \"Copyright 2022-, Anzal KS\"\n",
    "__maintainer__       = \"Anzal KS\"\n",
    "__email__            = \"anzalks@ncbs.res.in\"\n",
    "from pathlib import Path\n",
    "import neo.io as nio\n",
    "import numpy as np\n",
    "import matplotlib.pyplot as plt\n",
    "import scipy.signal as spy\n",
    "from pathlib import Path\n",
    "from matplotlib.animation import FuncAnimation\n",
    "from matplotlib.font_manager import FontProperties\n"
   ]
  },
  {
   "cell_type": "code",
   "execution_count": 459,
   "id": "573a402a-3b19-4c55-8cc5-a5a90ea116c2",
   "metadata": {},
   "outputs": [],
   "source": [
    "\"\"\"\n",
    "Font and color defining functions\n",
    "\"\"\"\n",
    "y_labels = FontProperties()\n",
    "y_labels.set_family('sans-serif')\n",
    "y_labels.set_size('large')\n",
    "x_labels = FontProperties()\n",
    "x_labels.set_family('sans-serif')\n",
    "x_labels.set_size('large')"
   ]
  },
  {
   "cell_type": "code",
   "execution_count": 460,
   "id": "539b4d2c-c9bd-4bea-ac97-66ddb46eec49",
   "metadata": {
    "tags": []
   },
   "outputs": [],
   "source": [
    "f = '/Users/anzalks/Documents/Expt_data/Recordings/CA1_recordings/x_spread_recording_02Hz_30mins/cells_cumulated/2022_12_12_cell_5'\n",
    "f=Path(f)\n",
    "#f_plt = '/Users/anzalks/Documents/Expt_data/Recordings/CA1_recordings/x_spread_recording_02Hz_30mins/2022_12_12/data/2022_12_12_cell_3/aaaaa.png'\n",
    "#file_name = f.split('/')[-1]"
   ]
  },
  {
   "cell_type": "code",
   "execution_count": 461,
   "id": "8ed50abc-3b37-43e1-95f7-64d05a0e16a5",
   "metadata": {
    "tags": []
   },
   "outputs": [],
   "source": [
    "outdir = f/'plots'\n",
    "outdir.mkdir(exist_ok=True, parents=True)"
   ]
  },
  {
   "cell_type": "code",
   "execution_count": 462,
   "id": "8f5d3b53-9cad-4ea5-818b-c01f69bf9612",
   "metadata": {
    "tags": []
   },
   "outputs": [],
   "source": [
    "def list_files(p):\n",
    "    f_list = []\n",
    "    f_list=list(p.glob('**/*abf'))\n",
    "    f_list.sort()\n",
    "    return f_list"
   ]
  },
  {
   "cell_type": "code",
   "execution_count": 463,
   "id": "8b135bc0-09e1-48af-8e43-fff6c51cfc8a",
   "metadata": {
    "tags": []
   },
   "outputs": [],
   "source": [
    "def protocol_file_name(file_name):\n",
    "    f = str(file_name)\n",
    "    reader = nio.AxonIO(f)\n",
    "    protocol_name = reader._axon_info['sProtocolPath']\n",
    "    protocol_name = str(protocol_name).split('\\\\')[-1]\n",
    "    protocol_name = protocol_name.split('.')[-2]\n",
    "    return protocol_name"
   ]
  },
  {
   "cell_type": "code",
   "execution_count": 489,
   "id": "58d6defa-e1b7-4eab-afc2-ab9cedd07cea",
   "metadata": {},
   "outputs": [],
   "source": [
    "def animate_optical(f, outdir):\n",
    "    global t\n",
    "    global trace\n",
    "    f_n = f.stem\n",
    "    outdir = f\"{outdir}/{f_n}\"\n",
    "    f = str(f)\n",
    "    file_name = f.split(\"/\")[-1]\n",
    "    reader = nio.AxonIO(f)\n",
    "    channels = reader.header[\"signal_channels\"]\n",
    "    chan_count = len(channels)\n",
    "    block = reader.read_block(signal_group_mode=\"split-all\")\n",
    "    segments = block.segments\n",
    "    sample_trace = segments[0].analogsignals[0]\n",
    "    sampling_rate = sample_trace.sampling_rate\n",
    "    ti = sample_trace.t_start\n",
    "    tf = sample_trace.t_stop\n",
    "    total_time = int(tf - ti)\n",
    "    protocol_raw = reader.read_raw_protocol()\n",
    "    protocol_raw = protocol_raw[0]\n",
    "    print(total_time)\n",
    "    unit = str(sample_trace.units).split()[1]\n",
    "    all_chan_trace = []\n",
    "    t_all = []\n",
    "    print(\"total channel loop begin\")\n",
    "    for i in range(chan_count):\n",
    "        trace_all = list()\n",
    "        tr = list()\n",
    "        for s, segment in enumerate(segments):\n",
    "            analogsignals = segment.analogsignals[i]\n",
    "            unit = str(analogsignals.units).split()[1]\n",
    "            trace = np.array(analogsignals)\n",
    "            trace = np.mean(trace, axis=1)\n",
    "            trace_all.append(trace)\n",
    "            t = np.linspace(0, float(tf - ti), len(trace))\n",
    "            tr.append(t)\n",
    "        trace_all = np.mean(trace_all, axis=0)\n",
    "        tr = np.mean(tr, axis=0)\n",
    "        all_chan_trace.append(trace_all)\n",
    "        t_all.append(tr)\n",
    "    t_all = np.mean(t_all, axis=0)\n",
    "    data = [\n",
    "        t_all,\n",
    "        all_chan_trace[0],\n",
    "        all_chan_trace[1],\n",
    "        all_chan_trace[2],\n",
    "        all_chan_trace[3],\n",
    "    ]\n",
    "    print(f\" shape of data = {np.shape(data)}\")\n",
    "    #data = [t_all, all_chan_trace[0]] #for cell data\n",
    "    data = [t_all, all_chan_trace[3]] # for feild\n",
    "    print(f\"shape of t, data ={np.shape(data[0])}, {np.shape(data[1])}\")\n",
    "    fontproperties=f'fontproperties={y_labels}'\n",
    "    fig = plt.figure(figsize=(18,6))\n",
    "    #axis = plt.axes(xlim=(0, 12.5), ylim=(-75, -50), xlabel=('time (s)'),ylabel=('membrane voltage (mV)'),title=('cell response to patterns'))\n",
    "    axis = plt.axes(xlim=(0, 12.5), ylim=(-2, 0.1), xlabel=('time (s)'),ylabel=('voltage (mV)'),title=('field response to patterns'))\n",
    "    (line,) = axis.plot([], [], lw=3)\n",
    "    num_of_frames = 100 #100\n",
    "    num_of_sec_per_frame = 0.05 #1\n",
    "    frames = np.linspace(0, t_all[-1]*int(sampling_rate), num_of_frames)\n",
    "\n",
    "    def init():\n",
    "        line.set_data([],[])\n",
    "        return (line,)\n",
    "\n",
    "    def animate(i):\n",
    "        # print(\"animating\")\n",
    "        x = data[0][: int(i + num_of_sec_per_frame*int(sampling_rate))]\n",
    "        y = data[1][: int(i + num_of_sec_per_frame*int(sampling_rate))]\n",
    "\n",
    "        line.set_data(x, y)\n",
    "        # axis.set_xlim(min(x), max(x))\n",
    "        # axis.set_xlim(data[0][int(i)], data[0][int(i + num_of_sec_per_frame*int(sampling_rate))])\n",
    "\n",
    "        return (line,)\n",
    "\n",
    "    # anim = FuncAnimation(\n",
    "    #     fig, animate, init_func=init, frames=len(data[0])-25000, blit=True\n",
    "    # )\n",
    "    anim = FuncAnimation(\n",
    "        fig, animate, init_func=init, frames=frames, blit=True\n",
    "    )\n",
    "    #anim.save(f\"{outdir}plot_anim.mp4\", fps=num_of_frames/t_all[-1])\n",
    "    anim.save(f\"{outdir}plot_anim_field.mp4\", fps=num_of_frames/t_all[-1])\n"
   ]
  },
  {
   "cell_type": "code",
   "execution_count": 490,
   "id": "e3ff944f-9651-484f-92d8-efea0b0e4bdc",
   "metadata": {},
   "outputs": [],
   "source": [
    "abfs = list_files(f)"
   ]
  },
  {
   "cell_type": "code",
   "execution_count": 491,
   "id": "d37f27c1-63ba-423f-960c-7873bea825c3",
   "metadata": {},
   "outputs": [
    {
     "name": "stdout",
     "output_type": "stream",
     "text": [
      "17\n",
      "total channel loop begin\n",
      " shape of data = (5, 342000)\n",
      "shape of t, data =(342000,), (342000,)\n"
     ]
    },
    {
     "data": {
      "image/png": "[encoded data removed]",
      "text/plain": [
       "<Figure size 1296x432 with 1 Axes>"
      ]
     },
     "metadata": {
      "needs_background": "light"
     },
     "output_type": "display_data"
    }
   ],
   "source": [
    "animate_optical(abfs[4],outdir)"
   ]
  },
  {
   "cell_type": "code",
   "execution_count": null,
   "id": "d9e21795-8267-4cd3-b913-da47ce534cb0",
   "metadata": {},
   "outputs": [],
   "source": []
  }
 ],
 "metadata": {
  "kernelspec": {
   "display_name": "Python 3 (ipykernel)",
   "language": "python",
   "name": "python3"
  },
  "language_info": {
   "codemirror_mode": {
    "name": "ipython",
    "version": 3
   },
   "file_extension": ".py",
   "mimetype": "text/x-python",
   "name": "python",
   "nbconvert_exporter": "python",
   "pygments_lexer": "ipython3",
   "version": "3.9.12"
  }
 },
 "nbformat": 4,
 "nbformat_minor": 5
}
